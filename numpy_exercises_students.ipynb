{
 "cells": [
  {
   "attachments": {},
   "cell_type": "markdown",
   "metadata": {},
   "source": [
    "#Numpy Exercies for practice"
   ]
  },
  {
   "cell_type": "code",
   "execution_count": 1,
   "metadata": {},
   "outputs": [],
   "source": [
    "1. # Import NumPy as its abbreviation 'np'\n",
    "\n",
    "import numpy as np\n"
   ]
  },
  {
   "cell_type": "code",
   "execution_count": 1,
   "metadata": {},
   "outputs": [
    {
     "name": "stdout",
     "output_type": "stream",
     "text": [
      "Our array is:\n",
      "[1 3 5 7 9]\n"
     ]
    }
   ],
   "source": [
    "2. # Create a 1-dimensional NumPy array using np.array()\n",
    "\n",
    "import numpy as np\n",
    "a = np.array([1, 3, 5, 7, 9])\n",
    "print('Our array is:')\n",
    "print(a)\n"
   ]
  },
  {
   "cell_type": "code",
   "execution_count": 2,
   "metadata": {},
   "outputs": [
    {
     "name": "stdout",
     "output_type": "stream",
     "text": [
      "Our array is:\n",
      "[[[3 7 5]\n",
      "  [8 4 3]]]\n"
     ]
    }
   ],
   "source": [
    "3. # Create a 2-dimensional NumPy array using np.array()\n",
    "\n",
    "import numpy as np\n",
    "a = np.array([[[3,7,5],[8,4,3]]])\n",
    "print('Our array is:')\n",
    "print(a)\n"
   ]
  },
  {
   "cell_type": "code",
   "execution_count": 3,
   "metadata": {},
   "outputs": [
    {
     "name": "stdout",
     "output_type": "stream",
     "text": [
      "Our array is:\n",
      "[[[3 7 5]\n",
      "  [8 4 3]\n",
      "  [2 4 9]]]\n"
     ]
    }
   ],
   "source": [
    "4. # Create a 3-dimensional Numpy array using np.array()\n",
    "\n",
    "import numpy as np\n",
    "a = np.array([[[3,7,5],[8,4,3],[2,4,9]]])\n",
    "print('Our array is:')\n",
    "print(a)\n"
   ]
  },
  {
   "cell_type": "code",
   "execution_count": 9,
   "metadata": {},
   "outputs": [
    {
     "name": "stdout",
     "output_type": "stream",
     "text": [
      "Our array is:\n",
      "[3 7 5]\n",
      "shape= (3,)\n",
      "dimension= 1\n",
      "datatype= int16\n",
      "size= 3\n"
     ]
    }
   ],
   "source": [
    "5. # Attributes of 1-dimensional array Find the shape, number of dimensions, data type, size and type of each array.\n",
    "\n",
    "import numpy as np\n",
    "a = np.array([3,7,5],dtype='int16')\n",
    "print('Our array is:')\n",
    "print(a)\n",
    "print(\"shape=\",a.shape)\n",
    "print(\"dimension=\",a.ndim)\n",
    "print(\"datatype=\",a.dtype)\n",
    "print(\"size=\",a.size)\n",
    "\n",
    "\n"
   ]
  },
  {
   "cell_type": "code",
   "execution_count": 10,
   "metadata": {},
   "outputs": [
    {
     "name": "stdout",
     "output_type": "stream",
     "text": [
      "Our array is:\n",
      "[[3 7 5]\n",
      " [8 4 3]\n",
      " [2 4 9]]\n",
      "shape= (3, 3)\n",
      "dimension= 2\n",
      "datatype= int16\n",
      "size= 9\n"
     ]
    }
   ],
   "source": [
    "6. # Attributes of 2-dimensional array\n",
    "import numpy as np\n",
    "a = np.array([[3,7,5],[8,4,3],[2,4,9]],dtype='int16')\n",
    "print('Our array is:')\n",
    "print(a)\n",
    "print(\"shape=\",a.shape)\n",
    "print(\"dimension=\",a.ndim)\n",
    "print(\"datatype=\",a.dtype)\n",
    "print(\"size=\",a.size)\n"
   ]
  },
  {
   "cell_type": "code",
   "execution_count": 12,
   "metadata": {},
   "outputs": [
    {
     "name": "stdout",
     "output_type": "stream",
     "text": [
      "Our array is:\n",
      "[[[3 7 5]\n",
      "  [8 4 3]\n",
      "  [2 4 9]]]\n",
      "shape= (1, 3, 3)\n",
      "dimension= 3\n",
      "datatype= int16\n",
      "size= 9\n"
     ]
    }
   ],
   "source": [
    "7. # Attributes of 3-dimensional array\n",
    "import numpy as np\n",
    "a = np.array([[[3,7,5],[8,4,3],[2,4,9]]],dtype='int16')\n",
    "print('Our array is:')\n",
    "print(a)\n",
    "print(\"shape=\",a.shape)\n",
    "print(\"dimension=\",a.ndim)\n",
    "print(\"datatype=\",a.dtype)\n",
    "print(\"size=\",a.size)\n"
   ]
  },
  {
   "cell_type": "code",
   "execution_count": 6,
   "metadata": {},
   "outputs": [],
   "source": [
    "8. # Import pandas and create a DataFrame out of one of the arrays you've created\n"
   ]
  },
  {
   "cell_type": "code",
   "execution_count": 13,
   "metadata": {},
   "outputs": [
    {
     "name": "stdout",
     "output_type": "stream",
     "text": [
      "[[1 1]\n",
      " [1 1]\n",
      " [1 1]\n",
      " [1 1]\n",
      " [1 1]\n",
      " [1 1]\n",
      " [1 1]\n",
      " [1 1]\n",
      " [1 1]\n",
      " [1 1]]\n"
     ]
    }
   ],
   "source": [
    "9. # Create an array of shape (10, 2) with only ones\n",
    "import numpy as np\n",
    "x = np.ones([10,2], dtype = int)\n",
    "print(x)\n"
   ]
  },
  {
   "cell_type": "code",
   "execution_count": 18,
   "metadata": {},
   "outputs": [
    {
     "name": "stdout",
     "output_type": "stream",
     "text": [
      "[[[0 0 0]\n",
      "  [0 0 0]]\n",
      "\n",
      " [[0 0 0]\n",
      "  [0 0 0]]\n",
      "\n",
      " [[0 0 0]\n",
      "  [0 0 0]]\n",
      "\n",
      " [[0 0 0]\n",
      "  [0 0 0]]\n",
      "\n",
      " [[0 0 0]\n",
      "  [0 0 0]]\n",
      "\n",
      " [[0 0 0]\n",
      "  [0 0 0]]\n",
      "\n",
      " [[0 0 0]\n",
      "  [0 0 0]]]\n"
     ]
    }
   ],
   "source": [
    "10. # Create an array of shape (7, 2, 3) of only zeros\n",
    "import numpy as np\n",
    "x = np.zeros([7,2,3], dtype = 'int8')\n",
    "print(x)\n"
   ]
  },
  {
   "cell_type": "code",
   "execution_count": 19,
   "metadata": {},
   "outputs": [
    {
     "name": "stdout",
     "output_type": "stream",
     "text": [
      "[ 0  3  6  9 12 15 18 21 24 27 30 33 36 39 42 45 48 51 54 57 60 63 66 69\n",
      " 72 75 78 81 84 87 90 93 96 99]\n"
     ]
    }
   ],
   "source": [
    "11. # Create an array within a range of 0 and 100 with step 3\n",
    "import numpy as np\n",
    "x = np.arange(0,100,3)\n",
    "print(x)\n"
   ]
  },
  {
   "cell_type": "code",
   "execution_count": 84,
   "metadata": {},
   "outputs": [
    {
     "name": "stdout",
     "output_type": "stream",
     "text": [
      "[[2 6]\n",
      " [3 8]\n",
      " [2 4]\n",
      " [2 6]\n",
      " [4 8]\n",
      " [6 1]\n",
      " [3 8]]\n"
     ]
    }
   ],
   "source": [
    "12. # Create a random array with numbers between 0 and 10 of size (7, 2)\n",
    "\n",
    "b = np.random.randint(0,11,size=(7,2))\n",
    "print(b)\n"
   ]
  },
  {
   "cell_type": "code",
   "execution_count": 85,
   "metadata": {},
   "outputs": [
    {
     "name": "stdout",
     "output_type": "stream",
     "text": [
      "[[0.96563203 0.80839735 0.30461377 0.09767211 0.68423303]\n",
      " [0.44015249 0.12203823 0.49517691 0.03438852 0.9093204 ]\n",
      " [0.25877998 0.66252228 0.31171108 0.52006802 0.54671028]]\n"
     ]
    }
   ],
   "source": [
    "13. # Create a random array of floats between 0 & 1 of shape (3, 5)\n",
    "x = np.random.rand(3,5)\n",
    "print(x)\n",
    "\n"
   ]
  },
  {
   "cell_type": "code",
   "execution_count": 82,
   "metadata": {},
   "outputs": [],
   "source": [
    "14. # Set the random seed to 42\n",
    "\n",
    "np.random.seed(42)"
   ]
  },
  {
   "cell_type": "code",
   "execution_count": 83,
   "metadata": {},
   "outputs": [
    {
     "name": "stdout",
     "output_type": "stream",
     "text": [
      "[[0.37454012 0.95071431 0.73199394 0.59865848 0.15601864 0.15599452]\n",
      " [0.05808361 0.86617615 0.60111501 0.70807258 0.02058449 0.96990985]\n",
      " [0.83244264 0.21233911 0.18182497 0.18340451 0.30424224 0.52475643]\n",
      " [0.43194502 0.29122914 0.61185289 0.13949386 0.29214465 0.36636184]]\n"
     ]
    }
   ],
   "source": [
    "15. # Create a random array of numbers between 0 & 10 of size (4, 6) Run the cell above again, what happens?\n",
    "\n",
    "a=np.random.rand(4,6)\n",
    "print(a)"
   ]
  },
  {
   "cell_type": "code",
   "execution_count": 86,
   "metadata": {},
   "outputs": [
    {
     "ename": "TypeError",
     "evalue": "rand() got an unexpected keyword argument 'size'",
     "output_type": "error",
     "traceback": [
      "\u001b[0;31m---------------------------------------------------------------------------\u001b[0m",
      "\u001b[0;31mTypeError\u001b[0m                                 Traceback (most recent call last)",
      "Cell \u001b[0;32mIn[86], line 3\u001b[0m\n\u001b[1;32m      1\u001b[0m \u001b[38;5;241m16.\u001b[39m \u001b[38;5;66;03m# Create an array of random numbers between 1 & 10 of size (3, 7) and save it to a variable\u001b[39;00m\n\u001b[0;32m----> 3\u001b[0m a\u001b[38;5;241m=\u001b[39m\u001b[43mnp\u001b[49m\u001b[38;5;241;43m.\u001b[39;49m\u001b[43mrandom\u001b[49m\u001b[38;5;241;43m.\u001b[39;49m\u001b[43mrand\u001b[49m\u001b[43m(\u001b[49m\u001b[38;5;241;43m1\u001b[39;49m\u001b[43m,\u001b[49m\u001b[38;5;241;43m10\u001b[39;49m\u001b[43m,\u001b[49m\u001b[43msize\u001b[49m\u001b[38;5;241;43m=\u001b[39;49m\u001b[43m(\u001b[49m\u001b[38;5;241;43m3\u001b[39;49m\u001b[43m,\u001b[49m\u001b[38;5;241;43m7\u001b[39;49m\u001b[43m)\u001b[49m\u001b[43m)\u001b[49m\n",
      "\u001b[0;31mTypeError\u001b[0m: rand() got an unexpected keyword argument 'size'"
     ]
    }
   ],
   "source": [
    "16. # Create an array of random numbers between 1 & 10 of size (3, 7) and save it to a variable\n",
    "\n",
    "a=np.random.rand(1,10,size=(3,7))\n"
   ]
  },
  {
   "cell_type": "code",
   "execution_count": 25,
   "metadata": {},
   "outputs": [
    {
     "name": "stdout",
     "output_type": "stream",
     "text": [
      "array:\n",
      "[5 2 6 2 7 5 6 8 2 9]\n",
      "\n",
      "\n",
      "Unique values of first array:\n",
      "[2 5 6 7 8 9]\n"
     ]
    }
   ],
   "source": [
    "17. # Find the unique numbers in the array you just created\n",
    "a = np.array([5,2,6,2,7,5,6,8,2,9])\n",
    "\n",
    "print('array:')\n",
    "print(a)\n",
    "print('\\n')\n",
    "\n",
    "print('Unique values of first array:')\n",
    "u = np.unique(a)\n",
    "print(u)\n"
   ]
  },
  {
   "cell_type": "code",
   "execution_count": 26,
   "metadata": {},
   "outputs": [
    {
     "name": "stdout",
     "output_type": "stream",
     "text": [
      "First array:\n",
      "[5 2 6 2 7 5 6 8 2 9]\n",
      "\n",
      "\n",
      "5\n"
     ]
    }
   ],
   "source": [
    "18. # Find the 0'th index of the latest array you created\n",
    "a = np.array([5,2,6,2,7,5,6,8,2,9])\n",
    "\n",
    "print('First array:')\n",
    "print(a)\n",
    "print('\\n')\n",
    "print(a[0])\n"
   ]
  },
  {
   "cell_type": "code",
   "execution_count": 39,
   "metadata": {},
   "outputs": [
    {
     "name": "stdout",
     "output_type": "stream",
     "text": [
      "[[[[3 7 5]\n",
      "   [8 4 3]\n",
      "   [2 4 9]]]]\n"
     ]
    }
   ],
   "source": [
    "19. # Get the first 2 rows of latest array you created\n",
    "\n",
    "a = np.array([[[[3,7,5],[8,4,3],[2,4,9]]]],dtype='int16')\n",
    "print(a[:2,:])\n",
    "\n"
   ]
  },
  {
   "cell_type": "code",
   "execution_count": 40,
   "metadata": {},
   "outputs": [
    {
     "name": "stdout",
     "output_type": "stream",
     "text": [
      "[[[[3 7 5]\n",
      "   [8 4 3]\n",
      "   [2 4 9]]]]\n"
     ]
    }
   ],
   "source": [
    "20. # Get the first 2 values of the first 2 rows of the latest array\n",
    "\n",
    "a = np.array([[[[3,7,5],[8,4,3],[2,4,9]]]],dtype='int16')\n",
    "print(a[:2,:2])"
   ]
  },
  {
   "cell_type": "code",
   "execution_count": 17,
   "metadata": {},
   "outputs": [],
   "source": [
    "21. # Create a random array of numbers between 0 & 10 and an array of ones both of size (3, 5), save them both to variables\n"
   ]
  },
  {
   "cell_type": "code",
   "execution_count": 42,
   "metadata": {},
   "outputs": [
    {
     "name": "stdout",
     "output_type": "stream",
     "text": [
      "First array:\n",
      "[[0 1 2]\n",
      " [3 4 5]\n",
      " [6 7 8]]\n",
      "\n",
      "\n",
      "Second array:\n",
      "[10 10 10]\n",
      "\n",
      "\n",
      "Add the two arrays:\n",
      "[[10 11 12]\n",
      " [13 14 15]\n",
      " [16 17 18]]\n",
      "\n",
      "\n"
     ]
    }
   ],
   "source": [
    "22. # Add the two arrays together\n",
    "\n",
    "a = np.arange(9, dtype = np.int16).reshape(3,3)\n",
    "print('First array:')\n",
    "print(a)\n",
    "print('\\n')\n",
    "\n",
    "print('Second array:')\n",
    "b = np.array([10,10,10])\n",
    "print(b)\n",
    "print('\\n')\n",
    "\n",
    "print('Add the two arrays:')\n",
    "print(np.add(a, b))\n",
    "print('\\n')"
   ]
  },
  {
   "cell_type": "code",
   "execution_count": 43,
   "metadata": {},
   "outputs": [
    {
     "name": "stdout",
     "output_type": "stream",
     "text": [
      "[[1 1 1]\n",
      " [1 1 1]\n",
      " [1 1 1]\n",
      " [1 1 1]\n",
      " [1 1 1]]\n"
     ]
    }
   ],
   "source": [
    "23. # Create another array of ones of shape (5, 3)\n",
    "\n",
    "x = np.ones([5,3], dtype = int)\n",
    "print(x)\n"
   ]
  },
  {
   "cell_type": "code",
   "execution_count": 52,
   "metadata": {},
   "outputs": [
    {
     "name": "stdout",
     "output_type": "stream",
     "text": [
      "[[1 1]\n",
      " [1 1]\n",
      " [1 1]]\n",
      "[[0 1]\n",
      " [2 3]\n",
      " [4 5]]\n",
      "[[1 2]\n",
      " [3 4]\n",
      " [5 6]]\n"
     ]
    }
   ],
   "source": [
    "24. # Try add the array of ones and the other most recent array together\n",
    "x = np.ones([3,2], dtype = \"int16\")\n",
    "print(x)\n",
    "a = np.arange(6, dtype = np.int16).reshape(3,2)\n",
    "print(a)\n",
    "print(np.add(x,a))"
   ]
  },
  {
   "cell_type": "code",
   "execution_count": 54,
   "metadata": {},
   "outputs": [
    {
     "name": "stdout",
     "output_type": "stream",
     "text": [
      "[[1 1 1 1 1]\n",
      " [1 1 1 1 1]\n",
      " [1 1 1 1 1]]\n"
     ]
    }
   ],
   "source": [
    "25. # Create another array of ones of shape (3, 5)\n",
    "x = np.ones([3,5], dtype = \"int16\")\n",
    "print(x)\n"
   ]
  },
  {
   "cell_type": "code",
   "execution_count": 56,
   "metadata": {},
   "outputs": [
    {
     "name": "stdout",
     "output_type": "stream",
     "text": [
      "[[ 1  0]\n",
      " [-1 -2]\n",
      " [-3 -4]]\n"
     ]
    }
   ],
   "source": [
    "26. # Subtract the new array of ones from the other most recent array\n",
    "a = np.arange(6, dtype = np.int16).reshape(3,2)\n",
    "b = np.ones([3,2], dtype = \"int16\")\n",
    "print(np.subtract(b,a))\n",
    "\n"
   ]
  },
  {
   "cell_type": "code",
   "execution_count": 58,
   "metadata": {},
   "outputs": [
    {
     "name": "stdout",
     "output_type": "stream",
     "text": [
      "[[2 2]\n",
      " [2 2]\n",
      " [2 2]]\n",
      "\n",
      "\n"
     ]
    }
   ],
   "source": [
    "27. # Multiply the ones array with the latest array\n",
    "\n",
    "b = np.ones([3,2], dtype = \"int16\")\n",
    "a = np.array([2])\n",
    "print(np.multiply(a, b))\n",
    "print('\\n')\n"
   ]
  },
  {
   "cell_type": "code",
   "execution_count": 64,
   "metadata": {},
   "outputs": [
    {
     "name": "stdout",
     "output_type": "stream",
     "text": [
      "[[ 0  1]\n",
      " [ 4  9]\n",
      " [16 25]]\n"
     ]
    }
   ],
   "source": [
    "28. # Take the latest array to the power of 2 using '**'\n",
    "\n",
    "a = np.arange(6, dtype = np.int16).reshape(3,2)\n",
    "print(a**2)"
   ]
  },
  {
   "cell_type": "code",
   "execution_count": 65,
   "metadata": {},
   "outputs": [
    {
     "name": "stdout",
     "output_type": "stream",
     "text": [
      "[[ 0  1]\n",
      " [ 4  9]\n",
      " [16 25]]\n"
     ]
    }
   ],
   "source": [
    "29. # Do the same thing with np.square()\n",
    "\n",
    "a = np.arange(6, dtype = np.int16).reshape(3,2)\n",
    "print(np.square(a))"
   ]
  },
  {
   "cell_type": "code",
   "execution_count": 66,
   "metadata": {},
   "outputs": [
    {
     "name": "stdout",
     "output_type": "stream",
     "text": [
      "2.5\n"
     ]
    }
   ],
   "source": [
    "30. # Find the mean of the latest array using np.mean()\n",
    "\n",
    "a = np.arange(6, dtype = np.int16).reshape(3,2)\n",
    "print(np.mean(a))"
   ]
  },
  {
   "cell_type": "code",
   "execution_count": 68,
   "metadata": {},
   "outputs": [
    {
     "name": "stdout",
     "output_type": "stream",
     "text": [
      "5\n"
     ]
    }
   ],
   "source": [
    "31. # Find the maximum of the latest array using np.max()\n",
    "\n",
    "a = np.arange(6, dtype = np.int16).reshape(3,2)\n",
    "print(np.max(a))"
   ]
  },
  {
   "cell_type": "code",
   "execution_count": 69,
   "metadata": {},
   "outputs": [
    {
     "name": "stdout",
     "output_type": "stream",
     "text": [
      "0\n"
     ]
    }
   ],
   "source": [
    "32. # Find the minimum of the latest array using np.min()\n",
    "\n",
    "a = np.arange(6, dtype = np.int16).reshape(3,2)\n",
    "print(np.min(a))"
   ]
  },
  {
   "cell_type": "code",
   "execution_count": 70,
   "metadata": {},
   "outputs": [
    {
     "name": "stdout",
     "output_type": "stream",
     "text": [
      "1.707825127659933\n"
     ]
    }
   ],
   "source": [
    "33. # Find the standard deviation of the latest array\n",
    "\n",
    "a = np.arange(6, dtype = np.int16).reshape(3,2)\n",
    "print(np.std(a))"
   ]
  },
  {
   "cell_type": "code",
   "execution_count": 71,
   "metadata": {},
   "outputs": [
    {
     "name": "stdout",
     "output_type": "stream",
     "text": [
      "2.9166666666666665\n"
     ]
    }
   ],
   "source": [
    "34. # Find the variance of the latest array\n",
    "\n",
    "a = np.arange(6, dtype = np.int16).reshape(3,2)\n",
    "print(np.var(a))"
   ]
  },
  {
   "cell_type": "code",
   "execution_count": 74,
   "metadata": {},
   "outputs": [
    {
     "name": "stdout",
     "output_type": "stream",
     "text": [
      "[[[ 0]\n",
      "  [ 1]\n",
      "  [ 2]\n",
      "  [ 3]\n",
      "  [ 4]]\n",
      "\n",
      " [[ 5]\n",
      "  [ 6]\n",
      "  [ 7]\n",
      "  [ 8]\n",
      "  [ 9]]\n",
      "\n",
      " [[10]\n",
      "  [11]\n",
      "  [12]\n",
      "  [13]\n",
      "  [14]]]\n"
     ]
    }
   ],
   "source": [
    "35. # Reshape the latest array to (3, 5, 1)\n",
    "\n",
    "a = np.arange(15, dtype = np.int16).reshape(3,5)\n",
    "print(a.reshape(3,5,1))"
   ]
  },
  {
   "cell_type": "code",
   "execution_count": 75,
   "metadata": {},
   "outputs": [
    {
     "name": "stdout",
     "output_type": "stream",
     "text": [
      "[[ 0  5 10]\n",
      " [ 1  6 11]\n",
      " [ 2  7 12]\n",
      " [ 3  8 13]\n",
      " [ 4  9 14]]\n"
     ]
    }
   ],
   "source": [
    "36. # Transpose the latest array\n",
    "\n",
    "a = np.arange(15, dtype = np.int16).reshape(3,5)\n",
    "print(np.transpose(a))"
   ]
  },
  {
   "cell_type": "code",
   "execution_count": 88,
   "metadata": {},
   "outputs": [
    {
     "name": "stdout",
     "output_type": "stream",
     "text": [
      "[[8 8 0]\n",
      " [8 6 8]\n",
      " [7 0 7]]\n",
      "\n",
      "\n",
      "[[7 2]\n",
      " [0 7]\n",
      " [2 2]]\n"
     ]
    }
   ],
   "source": [
    "37. # Create two arrays of random integers between 0 to 10 one of size (3, 3) the other of size (3, 2)\n",
    "\n",
    "a = np.random.randint(0,10,size=(3,3))\n",
    "b = np.random.randint(0,10,size=(3,2))\n",
    "print(a)\n",
    "print('\\n')\n",
    "print(b)\n"
   ]
  },
  {
   "cell_type": "code",
   "execution_count": 89,
   "metadata": {},
   "outputs": [
    {
     "name": "stdout",
     "output_type": "stream",
     "text": [
      "[[0 4 9]\n",
      " [6 9 8]\n",
      " [6 8 7]]\n",
      "\n",
      "\n",
      "[[1 0]\n",
      " [6 6]\n",
      " [7 4]]\n",
      "[[ 87  60]\n",
      " [116  86]\n",
      " [103  76]]\n"
     ]
    }
   ],
   "source": [
    "38. # Perform a dot product on the two newest arrays you created\n",
    "\n",
    "a = np.random.randint(0,10,size=(3,3))\n",
    "b = np.random.randint(0,10,size=(3,2))\n",
    "print(a)\n",
    "print('\\n')\n",
    "print(b)\n",
    "print(np.dot(a,b))"
   ]
  },
  {
   "cell_type": "code",
   "execution_count": 108,
   "metadata": {},
   "outputs": [
    {
     "name": "stdout",
     "output_type": "stream",
     "text": [
      "[[8 6 8]\n",
      " [1 8 4]\n",
      " [1 8 4]\n",
      " [6 8 4]]\n",
      "\n",
      "\n",
      "[[3 9 3]\n",
      " [9 2 2]\n",
      " [2 6 3]\n",
      " [9 4 1]]\n"
     ]
    }
   ],
   "source": [
    "39. # Create two arrays of random integers between 0 to 10 both of size (4, 3)\n",
    "import numpy as np\n",
    "a = np.random.randint(1,11,size=(4,3))\n",
    "b = np.random.randint(1,11,size=(4,3))\n",
    "print(a)\n",
    "print('\\n')\n",
    "print(b)\n"
   ]
  },
  {
   "cell_type": "code",
   "execution_count": 109,
   "metadata": {},
   "outputs": [
    {
     "data": {
      "text/plain": [
       "array([[102, 100,  76, 104],\n",
       "       [ 87,  33,  62,  45],\n",
       "       [ 87,  33,  62,  45],\n",
       "       [102,  78,  72,  90]])"
      ]
     },
     "execution_count": 109,
     "metadata": {},
     "output_type": "execute_result"
    }
   ],
   "source": [
    "40. # Perform a dot product on the two newest arrays you created\n",
    "\n",
    "x=np.dot(a,b.T)\n",
    "x"
   ]
  },
  {
   "cell_type": "code",
   "execution_count": 110,
   "metadata": {},
   "outputs": [
    {
     "name": "stdout",
     "output_type": "stream",
     "text": [
      "[[8 6 8]\n",
      " [1 8 4]\n",
      " [1 8 4]\n",
      " [6 8 4]]\n",
      "[[3 9 2 9]\n",
      " [9 2 6 4]\n",
      " [3 2 3 1]]\n",
      "[[102 100  76 104]\n",
      " [ 87  33  62  45]\n",
      " [ 87  33  62  45]\n",
      " [102  78  72  90]]\n"
     ]
    }
   ],
   "source": [
    "41. #( Take the latest two arrays, perform a transpose on one of them and then perform a dot product on them both\n",
    "print(a)\n",
    "print(b.T)\n",
    "print(np.dot(a,b.T))"
   ]
  },
  {
   "cell_type": "code",
   "execution_count": 10,
   "metadata": {},
   "outputs": [
    {
     "name": "stdout",
     "output_type": "stream",
     "text": [
      "Orbit modules:  ['__builtins__', '__cached__', '__doc__', '__file__', '__loader__', '__name__', '__package__', '__spec__', 'calc_year']\n"
     ]
    }
   ],
   "source": [
    "\n",
    "import orbit\n",
    "print(\"Orbit modules: \", dir(orbit.utilities))\n",
    "     \n",
    "\n"
   ]
  },
  {
   "cell_type": "code",
   "execution_count": 116,
   "metadata": {},
   "outputs": [
    {
     "name": "stdout",
     "output_type": "stream",
     "text": [
      "[[9 5 0]\n",
      " [3 9 5]\n",
      " [5 4 0]]\n",
      "[[7 4 4]\n",
      " [6 3 5]\n",
      " [3 2 6]]\n"
     ]
    }
   ],
   "source": [
    "42. #Create two arrays of random integers between 0 & 10 of the same shape and save them to variables\n",
    "\n",
    "a = np.random.randint(0,10,size=(3,3))\n",
    "b = np.random.randint(0,10,size=(3,3))\n",
    "print(a)\n",
    "print(b)"
   ]
  },
  {
   "cell_type": "code",
   "execution_count": 118,
   "metadata": {},
   "outputs": [
    {
     "name": "stdout",
     "output_type": "stream",
     "text": [
      "[[9 5 0]\n",
      " [3 9 5]\n",
      " [5 4 0]]\n",
      "[[7 4 4]\n",
      " [6 3 5]\n",
      " [3 2 6]]\n",
      "[9 9]\n"
     ]
    }
   ],
   "source": [
    "43. # Find which elements of the first array are greater than 7\n",
    "\n",
    "print(a)\n",
    "print(b)\n",
    "print(a[a>7])"
   ]
  },
  {
   "cell_type": "code",
   "execution_count": 124,
   "metadata": {},
   "outputs": [
    {
     "name": "stdout",
     "output_type": "stream",
     "text": [
      "[array([[False, False, False],\n",
      "       [False, False,  True],\n",
      "       [False, False, False]])]\n"
     ]
    }
   ],
   "source": [
    "44. # Which parts of each array are equal? (try using '==')\n",
    "\n",
    "print([a==b])\n"
   ]
  },
  {
   "cell_type": "code",
   "execution_count": 125,
   "metadata": {},
   "outputs": [
    {
     "name": "stdout",
     "output_type": "stream",
     "text": [
      "[[0 5 9]\n",
      " [3 5 9]\n",
      " [0 4 5]]\n"
     ]
    }
   ],
   "source": [
    "45. # Sort one of the arrays you just created in ascending order\n",
    "\n",
    "print(np.sort(a))"
   ]
  },
  {
   "cell_type": "code",
   "execution_count": 127,
   "metadata": {},
   "outputs": [
    {
     "name": "stdout",
     "output_type": "stream",
     "text": [
      "[[9 5 0]\n",
      " [3 9 5]\n",
      " [5 4 0]]\n",
      "0\n"
     ]
    }
   ],
   "source": [
    "46. # Find the index with the maximum value in one of the arrays you've created\n",
    "\n",
    "print(a)\n",
    "print(np.argmax(a))"
   ]
  },
  {
   "cell_type": "code",
   "execution_count": 128,
   "metadata": {},
   "outputs": [
    {
     "name": "stdout",
     "output_type": "stream",
     "text": [
      "[[9 5 0]\n",
      " [3 9 5]\n",
      " [5 4 0]]\n",
      "2\n"
     ]
    }
   ],
   "source": [
    "47. # Find the index with the minimum value in one of the arrays you've created\n",
    "\n",
    "print(a)\n",
    "print(np.argmin(a))"
   ]
  },
  {
   "cell_type": "code",
   "execution_count": 129,
   "metadata": {},
   "outputs": [
    {
     "name": "stdout",
     "output_type": "stream",
     "text": [
      "[2 0 2]\n"
     ]
    }
   ],
   "source": [
    "48. # Find the indexes with the maximum values down the 1st axis (axis=1) of one of the arrays you created\n",
    "\n",
    "print(np.argmin(a, axis=1))"
   ]
  },
  {
   "cell_type": "code",
   "execution_count": 130,
   "metadata": {},
   "outputs": [
    {
     "name": "stdout",
     "output_type": "stream",
     "text": [
      "[1 2 0]\n"
     ]
    }
   ],
   "source": [
    "49. # Find the indexes with the minimum values across the 0th axis (axis=0) of one of the arrays you created\n",
    "\n",
    "print(np.argmin(a, axis=0))"
   ]
  },
  {
   "cell_type": "code",
   "execution_count": 131,
   "metadata": {},
   "outputs": [
    {
     "name": "stdout",
     "output_type": "stream",
     "text": [
      "[ 0 10 20 30 40 50 60 70 80 90]\n"
     ]
    }
   ],
   "source": [
    "50. # Create an array with 10 evenly spaced numbers between 1 and 100\n",
    "\n",
    "print(np.arange(0,100,10))"
   ]
  }
 ],
 "metadata": {
  "kernelspec": {
   "display_name": "Python 3",
   "language": "python",
   "name": "python3"
  },
  "language_info": {
   "codemirror_mode": {
    "name": "ipython",
    "version": 3
   },
   "file_extension": ".py",
   "mimetype": "text/x-python",
   "name": "python",
   "nbconvert_exporter": "python",
   "pygments_lexer": "ipython3",
   "version": "3.7.7"
  }
 },
 "nbformat": 4,
 "nbformat_minor": 2
}
